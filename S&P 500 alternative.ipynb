{
 "cells": [
  {
   "cell_type": "code",
   "execution_count": 110,
   "id": "68be3c40",
   "metadata": {},
   "outputs": [],
   "source": [
    "import numpy as np\n",
    "import pandas as pd\n",
    "import requests\n",
    "import xlsxwriter\n",
    "import math"
   ]
  },
  {
   "cell_type": "markdown",
   "id": "39181ac7",
   "metadata": {},
   "source": [
    "### Importing Stocks"
   ]
  },
  {
   "cell_type": "code",
   "execution_count": 111,
   "id": "c7703ebb",
   "metadata": {},
   "outputs": [
    {
     "data": {
      "text/html": [
       "<div>\n",
       "<style scoped>\n",
       "    .dataframe tbody tr th:only-of-type {\n",
       "        vertical-align: middle;\n",
       "    }\n",
       "\n",
       "    .dataframe tbody tr th {\n",
       "        vertical-align: top;\n",
       "    }\n",
       "\n",
       "    .dataframe thead th {\n",
       "        text-align: right;\n",
       "    }\n",
       "</style>\n",
       "<table border=\"1\" class=\"dataframe\">\n",
       "  <thead>\n",
       "    <tr style=\"text-align: right;\">\n",
       "      <th></th>\n",
       "      <th>Ticker</th>\n",
       "    </tr>\n",
       "  </thead>\n",
       "  <tbody>\n",
       "    <tr>\n",
       "      <th>0</th>\n",
       "      <td>A</td>\n",
       "    </tr>\n",
       "    <tr>\n",
       "      <th>1</th>\n",
       "      <td>AAL</td>\n",
       "    </tr>\n",
       "    <tr>\n",
       "      <th>2</th>\n",
       "      <td>AAP</td>\n",
       "    </tr>\n",
       "    <tr>\n",
       "      <th>3</th>\n",
       "      <td>AAPL</td>\n",
       "    </tr>\n",
       "    <tr>\n",
       "      <th>4</th>\n",
       "      <td>ABBV</td>\n",
       "    </tr>\n",
       "    <tr>\n",
       "      <th>...</th>\n",
       "      <td>...</td>\n",
       "    </tr>\n",
       "    <tr>\n",
       "      <th>500</th>\n",
       "      <td>YUM</td>\n",
       "    </tr>\n",
       "    <tr>\n",
       "      <th>501</th>\n",
       "      <td>ZBH</td>\n",
       "    </tr>\n",
       "    <tr>\n",
       "      <th>502</th>\n",
       "      <td>ZBRA</td>\n",
       "    </tr>\n",
       "    <tr>\n",
       "      <th>503</th>\n",
       "      <td>ZION</td>\n",
       "    </tr>\n",
       "    <tr>\n",
       "      <th>504</th>\n",
       "      <td>ZTS</td>\n",
       "    </tr>\n",
       "  </tbody>\n",
       "</table>\n",
       "<p>505 rows × 1 columns</p>\n",
       "</div>"
      ],
      "text/plain": [
       "    Ticker\n",
       "0        A\n",
       "1      AAL\n",
       "2      AAP\n",
       "3     AAPL\n",
       "4     ABBV\n",
       "..     ...\n",
       "500    YUM\n",
       "501    ZBH\n",
       "502   ZBRA\n",
       "503   ZION\n",
       "504    ZTS\n",
       "\n",
       "[505 rows x 1 columns]"
      ]
     },
     "execution_count": 111,
     "metadata": {},
     "output_type": "execute_result"
    }
   ],
   "source": [
    "stocks = pd.read_csv('sp_500_stocks.csv')\n",
    "stocks"
   ]
  },
  {
   "cell_type": "markdown",
   "id": "46892f2f",
   "metadata": {},
   "source": [
    "### Aquire API token"
   ]
  },
  {
   "cell_type": "code",
   "execution_count": 112,
   "id": "1aefc8dc",
   "metadata": {},
   "outputs": [],
   "source": [
    "from secrets import IEX_CLOUD_API_TOKEN"
   ]
  },
  {
   "cell_type": "code",
   "execution_count": 113,
   "id": "0b2d9176",
   "metadata": {},
   "outputs": [
    {
     "name": "stdout",
     "output_type": "stream",
     "text": [
      "{'avgTotalVolume': 124828574, 'calculationPrice': 'tops', 'change': 2.138, 'changePercent': 0.01222, 'close': 0, 'closeSource': 'olacfiif', 'closeTime': None, 'companyName': 'Apple Inc', 'currency': 'USD', 'delayedPrice': None, 'delayedPriceTime': None, 'extendedChange': None, 'extendedChangePercent': None, 'extendedPrice': None, 'extendedPriceTime': None, 'high': 0, 'highSource': 'Ic trpemE r Xiaelei', 'highTime': 1716369318244, 'iexAskPrice': 178.04, 'iexAskSize': 105, 'iexBidPrice': 178.67, 'iexBidSize': 103, 'iexClose': 182.783, 'iexCloseTime': 1676774133274, 'iexLastUpdated': 1680697338201, 'iexMarketPercent': 0.009467661295796488, 'iexOpen': 173.94, 'iexOpenTime': 1650416757474, 'iexRealtimePrice': 177.229, 'iexRealtimeSize': 104, 'iexVolume': 664730, 'lastTradeTime': 1685978841283, 'latestPrice': 177.147, 'latestSource': 'IEX real time price', 'latestTime': '3:43:06 PM', 'latestUpdate': 1698959759549, 'latestVolume': None, 'low': 0, 'lowSource': None, 'lowTime': None, 'marketCap': 2948989103779, 'oddLotDelayedPrice': None, 'oddLotDelayedPriceTime': None, 'open': 0, 'openTime': None, 'openSource': 'iaicolff', 'peRatio': 16.15, 'previousClose': 179.6, 'previousVolume': 92013931, 'primaryExchange': 'ADANQS', 'symbol': 'AAPL', 'volume': None, 'week52High': 185.61, 'week52Low': 118.1, 'ytdChange': 0.3398713623204543, 'isUSMarketOpen': True}\n"
     ]
    }
   ],
   "source": [
    "symbol = 'AAPL'\n",
    "# covert to f string\n",
    "api_url = f'https://sandbox.iexapis.com/stable/stock/{symbol}/quote?token={IEX_CLOUD_API_TOKEN}'\n",
    "\n",
    "data = requests.get(api_url).json()\n",
    "print(data)"
   ]
  },
  {
   "cell_type": "code",
   "execution_count": 114,
   "id": "f9934a7c",
   "metadata": {},
   "outputs": [
    {
     "data": {
      "text/plain": [
       "177.147"
      ]
     },
     "execution_count": 114,
     "metadata": {},
     "output_type": "execute_result"
    }
   ],
   "source": [
    "price = data['latestPrice']\n",
    "market_cap = data['marketCap']\n",
    "price"
   ]
  },
  {
   "cell_type": "markdown",
   "id": "cde4e239",
   "metadata": {},
   "source": [
    "### Add our stocks to a dataframe"
   ]
  },
  {
   "cell_type": "code",
   "execution_count": 115,
   "id": "42c1f6c8",
   "metadata": {},
   "outputs": [],
   "source": [
    "# add our columns\n",
    "columns = ['Ticker', 'Stocks Price', 'Market Cap', 'Number of Shares to buy']\n",
    "df = pd.DataFrame(columns=columns)\n"
   ]
  },
  {
   "cell_type": "code",
   "execution_count": 116,
   "id": "8435f9be",
   "metadata": {},
   "outputs": [
    {
     "data": {
      "text/html": [
       "<div>\n",
       "<style scoped>\n",
       "    .dataframe tbody tr th:only-of-type {\n",
       "        vertical-align: middle;\n",
       "    }\n",
       "\n",
       "    .dataframe tbody tr th {\n",
       "        vertical-align: top;\n",
       "    }\n",
       "\n",
       "    .dataframe thead th {\n",
       "        text-align: right;\n",
       "    }\n",
       "</style>\n",
       "<table border=\"1\" class=\"dataframe\">\n",
       "  <thead>\n",
       "    <tr style=\"text-align: right;\">\n",
       "      <th></th>\n",
       "      <th>Ticker</th>\n",
       "      <th>Stocks Price</th>\n",
       "      <th>Market Cap</th>\n",
       "      <th>Number of Shares to buy</th>\n",
       "    </tr>\n",
       "  </thead>\n",
       "  <tbody>\n",
       "    <tr>\n",
       "      <th>0</th>\n",
       "      <td>AAPL</td>\n",
       "      <td>177.147</td>\n",
       "      <td>2948989103779</td>\n",
       "      <td>n/a</td>\n",
       "    </tr>\n",
       "  </tbody>\n",
       "</table>\n",
       "</div>"
      ],
      "text/plain": [
       "  Ticker  Stocks Price     Market Cap Number of Shares to buy\n",
       "0   AAPL       177.147  2948989103779                     n/a"
      ]
     },
     "execution_count": 116,
     "metadata": {},
     "output_type": "execute_result"
    }
   ],
   "source": [
    "# add 1 row of data\n",
    "df.append(\n",
    "    pd.Series(\n",
    "    [\n",
    "        symbol,\n",
    "        price,\n",
    "        market_cap,\n",
    "        'n/a',\n",
    "    ], index = columns)\n",
    "    \n",
    "    ,\n",
    "    ignore_index=True\n",
    ")"
   ]
  },
  {
   "cell_type": "code",
   "execution_count": 117,
   "id": "663ba842",
   "metadata": {},
   "outputs": [],
   "source": [
    "# do it for all data\n",
    "df = pd.DataFrame(columns = columns)\n",
    "for stock in stocks['Ticker'][:5]:\n",
    "    api_url = f'https://sandbox.iexapis.com/stable/stock/{stock}/quote?token={IEX_CLOUD_API_TOKEN}'\n",
    "    data = requests.get(api_url).json()\n",
    "    df = df.append( pd.Series(\n",
    "    [\n",
    "        stock,\n",
    "        data['latestPrice'],\n",
    "        data['marketCap'],\n",
    "        'n/a',\n",
    "    ], index = columns)\n",
    "    ,ignore_index=True)"
   ]
  },
  {
   "cell_type": "code",
   "execution_count": 118,
   "id": "281f9630",
   "metadata": {},
   "outputs": [
    {
     "data": {
      "text/html": [
       "<div>\n",
       "<style scoped>\n",
       "    .dataframe tbody tr th:only-of-type {\n",
       "        vertical-align: middle;\n",
       "    }\n",
       "\n",
       "    .dataframe tbody tr th {\n",
       "        vertical-align: top;\n",
       "    }\n",
       "\n",
       "    .dataframe thead th {\n",
       "        text-align: right;\n",
       "    }\n",
       "</style>\n",
       "<table border=\"1\" class=\"dataframe\">\n",
       "  <thead>\n",
       "    <tr style=\"text-align: right;\">\n",
       "      <th></th>\n",
       "      <th>Ticker</th>\n",
       "      <th>Stocks Price</th>\n",
       "      <th>Market Cap</th>\n",
       "      <th>Number of Shares to buy</th>\n",
       "    </tr>\n",
       "  </thead>\n",
       "  <tbody>\n",
       "    <tr>\n",
       "      <th>0</th>\n",
       "      <td>A</td>\n",
       "      <td>159.170</td>\n",
       "      <td>48528716616</td>\n",
       "      <td>n/a</td>\n",
       "    </tr>\n",
       "    <tr>\n",
       "      <th>1</th>\n",
       "      <td>AAL</td>\n",
       "      <td>19.099</td>\n",
       "      <td>12131906601</td>\n",
       "      <td>n/a</td>\n",
       "    </tr>\n",
       "    <tr>\n",
       "      <th>2</th>\n",
       "      <td>AAP</td>\n",
       "      <td>236.351</td>\n",
       "      <td>14593314785</td>\n",
       "      <td>n/a</td>\n",
       "    </tr>\n",
       "    <tr>\n",
       "      <th>3</th>\n",
       "      <td>AAPL</td>\n",
       "      <td>175.600</td>\n",
       "      <td>2879694635479</td>\n",
       "      <td>n/a</td>\n",
       "    </tr>\n",
       "    <tr>\n",
       "      <th>4</th>\n",
       "      <td>ABBV</td>\n",
       "      <td>136.450</td>\n",
       "      <td>239662630756</td>\n",
       "      <td>n/a</td>\n",
       "    </tr>\n",
       "  </tbody>\n",
       "</table>\n",
       "</div>"
      ],
      "text/plain": [
       "  Ticker  Stocks Price     Market Cap Number of Shares to buy\n",
       "0      A       159.170    48528716616                     n/a\n",
       "1    AAL        19.099    12131906601                     n/a\n",
       "2    AAP       236.351    14593314785                     n/a\n",
       "3   AAPL       175.600  2879694635479                     n/a\n",
       "4   ABBV       136.450   239662630756                     n/a"
      ]
     },
     "execution_count": 118,
     "metadata": {},
     "output_type": "execute_result"
    }
   ],
   "source": [
    "df"
   ]
  },
  {
   "cell_type": "markdown",
   "id": "d68fc1ca",
   "metadata": {},
   "source": [
    "## Use Batch API calls to improve performance"
   ]
  },
  {
   "cell_type": "code",
   "execution_count": 119,
   "id": "56ea1105",
   "metadata": {},
   "outputs": [],
   "source": [
    "# split our list in 5 parts because there is a limit in batch api calls 100\n",
    "def chunks(lst, n):\n",
    "    for i in range(0, len(lst), n):\n",
    "        yield lst[i:i+n]"
   ]
  },
  {
   "cell_type": "code",
   "execution_count": 120,
   "id": "fe7fc0d8",
   "metadata": {},
   "outputs": [
    {
     "name": "stdout",
     "output_type": "stream",
     "text": [
      "A,AAL,AAP,AAPL,ABBV,ABC,ABMD,ABT,ACN,ADBE,ADI,ADM,ADP,ADSK,AEE,AEP,AES,AFL,AIG,AIV,AIZ,AJG,AKAM,ALB,ALGN,ALK,ALL,ALLE,ALXN,AMAT,AMCR,AMD,AME,AMGN,AMP,AMT,AMZN,ANET,ANSS,ANTM,AON,AOS,APA,APD,APH,APTV,ARE,ATO,ATVI,AVB,AVGO,AVY,AWK,AXP,AZO,BA,BAC,BAX,BBY,BDX,BEN,BF.B,BIIB,BIO,BK,BKNG,BKR,BLK,BLL,BMY,BR,BRK.B,BSX,BWA,BXP,C,CAG,CAH,CARR,CAT,CB,CBOE,CBRE,CCI,CCL,CDNS,CDW,CE,CERN,CF,CFG,CHD,CHRW,CHTR,CI,CINF,CL,CLX,CMA,CMCSA\n",
      "CME,CMG,CMI,CMS,CNC,CNP,COF,COG,COO,COP,COST,COTY,CPB,CPRT,CRM,CSCO,CSX,CTAS,CTL,CTSH,CTVA,CTXS,CVS,CVX,CXO,D,DAL,DD,DE,DFS,DG,DGX,DHI,DHR,DIS,DISCA,DISCK,DISH,DLR,DLTR,DOV,DOW,DPZ,DRE,DRI,DTE,DUK,DVA,DVN,DXC,DXCM,EA,EBAY,ECL,ED,EFX,EIX,EL,EMN,EMR,EOG,EQIX,EQR,ES,ESS,ETFC,ETN,ETR,EVRG,EW,EXC,EXPD,EXPE,EXR,F,FANG,FAST,FB,FBHS,FCX,FDX,FE,FFIV,FIS,FISV,FITB,FLIR,FLS,FLT,FMC,FOX,FOXA,FRC,FRT,FTI,FTNT,FTV,GD,GE,GILD\n",
      "GIS,GL,GLW,GM,GOOG,GOOGL,GPC,GPN,GPS,GRMN,GS,GWW,HAL,HAS,HBAN,HBI,HCA,HD,HES,HFC,HIG,HII,HLT,HOLX,HON,HPE,HPQ,HRB,HRL,HSIC,HST,HSY,HUM,HWM,IBM,ICE,IDXX,IEX,IFF,ILMN,INCY,INFO,INTC,INTU,IP,IPG,IPGP,IQV,IR,IRM,ISRG,IT,ITW,IVZ,J,JBHT,JCI,JKHY,JNJ,JNPR,JPM,K,KEY,KEYS,KHC,KIM,KLAC,KMB,KMI,KMX,KO,KR,KSS,KSU,L,LB,LDOS,LEG,LEN,LH,LHX,LIN,LKQ,LLY,LMT,LNC,LNT,LOW,LRCX,LUV,LVS,LW,LYB,LYV,MA,MAA,MAR,MAS,MCD,MCHP\n",
      "MCK,MCO,MDLZ,MDT,MET,MGM,MHK,MKC,MKTX,MLM,MMC,MMM,MNST,MO,MOS,MPC,MRK,MRO,MS,MSCI,MSFT,MSI,MTB,MTD,MU,MXIM,MYL,NBL,NCLH,NDAQ,NEE,NEM,NFLX,NI,NKE,NLOK,NLSN,NOC,NOV,NOW,NRG,NSC,NTAP,NTRS,NUE,NVDA,NVR,NWL,NWS,NWSA,O,ODFL,OKE,OMC,ORCL,ORLY,OTIS,OXY,PAYC,PAYX,PBCT,PCAR,PEAK,PEG,PEP,PFE,PFG,PG,PGR,PH,PHM,PKG,PKI,PLD,PM,PNC,PNR,PNW,PPG,PPL,PRGO,PRU,PSA,PSX,PVH,PWR,PXD,PYPL,QCOM,QRVO,RCL,RE,REG,REGN,RF,RHI,RJF,RL,RMD,ROK\n",
      "ROL,ROP,ROST,RSG,RTX,SBAC,SBUX,SCHW,SEE,SHW,SIVB,SJM,SLB,SLG,SNA,SNPS,SO,SPG,SPGI,SRE,STE,STT,STX,STZ,SWK,SWKS,SYF,SYK,SYY,T,TAP,TDG,TDY,TEL,TFC,TFX,TGT,TIF,TJX,TMO,TMUS,TPR,TROW,TRV,TSCO,TSN,TT,TTWO,TWTR,TXN,TXT,TYL,UA,UAA,UAL,UDR,UHS,ULTA,UNH,UNM,UNP,UPS,URI,USB,V,VAR,VFC,VIAC,VLO,VMC,VNO,VRSK,VRSN,VRTX,VTR,VZ,WAB,WAT,WBA,WDC,WEC,WELL,WFC,WHR,WLTW,WM,WMB,WMT,WRB,WRK,WST,WU,WY,WYNN,XEL,XLNX,XOM,XRAY,XRX,XYL\n",
      "YUM,ZBH,ZBRA,ZION,ZTS\n"
     ]
    }
   ],
   "source": [
    "groups = list(chunks(stocks['Ticker'], 100))\n",
    "strs = []\n",
    "for i in range(0, len(groups)):\n",
    "    strs.append(','.join(groups[i]))\n",
    "    print(strs[i])"
   ]
  },
  {
   "cell_type": "code",
   "execution_count": 121,
   "id": "bd7bccc4",
   "metadata": {},
   "outputs": [],
   "source": [
    "# loop and make batch apis calls\n",
    "df = pd.DataFrame(columns=columns)\n",
    "for string in strs:\n",
    "    batch_api_url = f'https://sandbox.iexapis.com/stable/stock/market/batch?symbols={string}&types=quote&token={IEX_CLOUD_API_TOKEN}'\n",
    "#WOW click the link\n",
    "#     print(batch_api_url)\n",
    "    data = requests.get(batch_api_url).json()\n",
    "#     parse data and append them to the dataframe\n",
    "    for symbol in string.split(','):\n",
    "        df = df.append(pd.Series(\n",
    "        [\n",
    "            symbol,\n",
    "            data[symbol]['quote']['latestPrice'],\n",
    "            data[symbol]['quote']['marketCap'],\n",
    "            'n/a'\n",
    "        ], index = columns)\n",
    "               ,ignore_index=True     \n",
    "                      )"
   ]
  },
  {
   "cell_type": "code",
   "execution_count": 122,
   "id": "b2e15006",
   "metadata": {},
   "outputs": [
    {
     "data": {
      "text/html": [
       "<div>\n",
       "<style scoped>\n",
       "    .dataframe tbody tr th:only-of-type {\n",
       "        vertical-align: middle;\n",
       "    }\n",
       "\n",
       "    .dataframe tbody tr th {\n",
       "        vertical-align: top;\n",
       "    }\n",
       "\n",
       "    .dataframe thead th {\n",
       "        text-align: right;\n",
       "    }\n",
       "</style>\n",
       "<table border=\"1\" class=\"dataframe\">\n",
       "  <thead>\n",
       "    <tr style=\"text-align: right;\">\n",
       "      <th></th>\n",
       "      <th>Ticker</th>\n",
       "      <th>Stocks Price</th>\n",
       "      <th>Market Cap</th>\n",
       "      <th>Number of Shares to buy</th>\n",
       "    </tr>\n",
       "  </thead>\n",
       "  <tbody>\n",
       "    <tr>\n",
       "      <th>0</th>\n",
       "      <td>A</td>\n",
       "      <td>163</td>\n",
       "      <td>47792433400</td>\n",
       "      <td>n/a</td>\n",
       "    </tr>\n",
       "    <tr>\n",
       "      <th>1</th>\n",
       "      <td>AAL</td>\n",
       "      <td>18.77</td>\n",
       "      <td>11952830831</td>\n",
       "      <td>n/a</td>\n",
       "    </tr>\n",
       "    <tr>\n",
       "      <th>2</th>\n",
       "      <td>AAP</td>\n",
       "      <td>235.216</td>\n",
       "      <td>14960078505</td>\n",
       "      <td>n/a</td>\n",
       "    </tr>\n",
       "    <tr>\n",
       "      <th>3</th>\n",
       "      <td>AAPL</td>\n",
       "      <td>175.3</td>\n",
       "      <td>2978820710288</td>\n",
       "      <td>n/a</td>\n",
       "    </tr>\n",
       "    <tr>\n",
       "      <th>4</th>\n",
       "      <td>ABBV</td>\n",
       "      <td>138.46</td>\n",
       "      <td>241210271268</td>\n",
       "      <td>n/a</td>\n",
       "    </tr>\n",
       "    <tr>\n",
       "      <th>...</th>\n",
       "      <td>...</td>\n",
       "      <td>...</td>\n",
       "      <td>...</td>\n",
       "      <td>...</td>\n",
       "    </tr>\n",
       "    <tr>\n",
       "      <th>500</th>\n",
       "      <td>YUM</td>\n",
       "      <td>139.39</td>\n",
       "      <td>40130787087</td>\n",
       "      <td>n/a</td>\n",
       "    </tr>\n",
       "    <tr>\n",
       "      <th>501</th>\n",
       "      <td>ZBH</td>\n",
       "      <td>129.26</td>\n",
       "      <td>26280592578</td>\n",
       "      <td>n/a</td>\n",
       "    </tr>\n",
       "    <tr>\n",
       "      <th>502</th>\n",
       "      <td>ZBRA</td>\n",
       "      <td>603.837</td>\n",
       "      <td>32445282298</td>\n",
       "      <td>n/a</td>\n",
       "    </tr>\n",
       "    <tr>\n",
       "      <th>503</th>\n",
       "      <td>ZION</td>\n",
       "      <td>63.98</td>\n",
       "      <td>10103193193</td>\n",
       "      <td>n/a</td>\n",
       "    </tr>\n",
       "    <tr>\n",
       "      <th>504</th>\n",
       "      <td>ZTS</td>\n",
       "      <td>242.09</td>\n",
       "      <td>116904241568</td>\n",
       "      <td>n/a</td>\n",
       "    </tr>\n",
       "  </tbody>\n",
       "</table>\n",
       "<p>505 rows × 4 columns</p>\n",
       "</div>"
      ],
      "text/plain": [
       "    Ticker Stocks Price     Market Cap Number of Shares to buy\n",
       "0        A          163    47792433400                     n/a\n",
       "1      AAL        18.77    11952830831                     n/a\n",
       "2      AAP      235.216    14960078505                     n/a\n",
       "3     AAPL        175.3  2978820710288                     n/a\n",
       "4     ABBV       138.46   241210271268                     n/a\n",
       "..     ...          ...            ...                     ...\n",
       "500    YUM       139.39    40130787087                     n/a\n",
       "501    ZBH       129.26    26280592578                     n/a\n",
       "502   ZBRA      603.837    32445282298                     n/a\n",
       "503   ZION        63.98    10103193193                     n/a\n",
       "504    ZTS       242.09   116904241568                     n/a\n",
       "\n",
       "[505 rows x 4 columns]"
      ]
     },
     "execution_count": 122,
     "metadata": {},
     "output_type": "execute_result"
    }
   ],
   "source": [
    "df\n",
    "\n",
    "# way faster that https requests!!!"
   ]
  },
  {
   "cell_type": "markdown",
   "id": "93c95e4b",
   "metadata": {},
   "source": [
    "### Calculating the number of shares to buy"
   ]
  },
  {
   "cell_type": "code",
   "execution_count": 123,
   "id": "f6424d8f",
   "metadata": {},
   "outputs": [
    {
     "name": "stdout",
     "output_type": "stream",
     "text": [
      "Enter the nmoney your portfolio?1000000\n",
      "1000000\n"
     ]
    }
   ],
   "source": [
    "portfolio_size= input('Enter the nmoney your portfolio?')\n",
    "\n",
    "# Testing not good one\n",
    "# make sure it is a integer\n",
    "try:\n",
    "    val = int(portfolio_size)\n",
    "    print(val)\n",
    "except:\n",
    "    print(\" That is not a number try again\")\n",
    "    portfolio_size= input('Enter the money for your portfolio?')\n"
   ]
  },
  {
   "cell_type": "code",
   "execution_count": 127,
   "id": "47b47b85",
   "metadata": {},
   "outputs": [],
   "source": [
    "position_size = float(portfolio_size) / len(df)\n",
    "for i in range(0, len(df.index)):\n",
    "#     loc is an easy way to find your dat\n",
    "    df.loc[i, 'Number of Shares to buy'] = math.floor(position_size / df.loc[i,'Stocks Price'])"
   ]
  },
  {
   "cell_type": "code",
   "execution_count": 128,
   "id": "257cc39b",
   "metadata": {},
   "outputs": [
    {
     "data": {
      "text/html": [
       "<div>\n",
       "<style scoped>\n",
       "    .dataframe tbody tr th:only-of-type {\n",
       "        vertical-align: middle;\n",
       "    }\n",
       "\n",
       "    .dataframe tbody tr th {\n",
       "        vertical-align: top;\n",
       "    }\n",
       "\n",
       "    .dataframe thead th {\n",
       "        text-align: right;\n",
       "    }\n",
       "</style>\n",
       "<table border=\"1\" class=\"dataframe\">\n",
       "  <thead>\n",
       "    <tr style=\"text-align: right;\">\n",
       "      <th></th>\n",
       "      <th>Ticker</th>\n",
       "      <th>Stocks Price</th>\n",
       "      <th>Market Cap</th>\n",
       "      <th>Number of Shares to buy</th>\n",
       "    </tr>\n",
       "  </thead>\n",
       "  <tbody>\n",
       "    <tr>\n",
       "      <th>0</th>\n",
       "      <td>A</td>\n",
       "      <td>163</td>\n",
       "      <td>47792433400</td>\n",
       "      <td>12</td>\n",
       "    </tr>\n",
       "    <tr>\n",
       "      <th>1</th>\n",
       "      <td>AAL</td>\n",
       "      <td>18.77</td>\n",
       "      <td>11952830831</td>\n",
       "      <td>105</td>\n",
       "    </tr>\n",
       "    <tr>\n",
       "      <th>2</th>\n",
       "      <td>AAP</td>\n",
       "      <td>235.216</td>\n",
       "      <td>14960078505</td>\n",
       "      <td>8</td>\n",
       "    </tr>\n",
       "    <tr>\n",
       "      <th>3</th>\n",
       "      <td>AAPL</td>\n",
       "      <td>175.3</td>\n",
       "      <td>2978820710288</td>\n",
       "      <td>11</td>\n",
       "    </tr>\n",
       "    <tr>\n",
       "      <th>4</th>\n",
       "      <td>ABBV</td>\n",
       "      <td>138.46</td>\n",
       "      <td>241210271268</td>\n",
       "      <td>14</td>\n",
       "    </tr>\n",
       "    <tr>\n",
       "      <th>...</th>\n",
       "      <td>...</td>\n",
       "      <td>...</td>\n",
       "      <td>...</td>\n",
       "      <td>...</td>\n",
       "    </tr>\n",
       "    <tr>\n",
       "      <th>500</th>\n",
       "      <td>YUM</td>\n",
       "      <td>139.39</td>\n",
       "      <td>40130787087</td>\n",
       "      <td>14</td>\n",
       "    </tr>\n",
       "    <tr>\n",
       "      <th>501</th>\n",
       "      <td>ZBH</td>\n",
       "      <td>129.26</td>\n",
       "      <td>26280592578</td>\n",
       "      <td>15</td>\n",
       "    </tr>\n",
       "    <tr>\n",
       "      <th>502</th>\n",
       "      <td>ZBRA</td>\n",
       "      <td>603.837</td>\n",
       "      <td>32445282298</td>\n",
       "      <td>3</td>\n",
       "    </tr>\n",
       "    <tr>\n",
       "      <th>503</th>\n",
       "      <td>ZION</td>\n",
       "      <td>63.98</td>\n",
       "      <td>10103193193</td>\n",
       "      <td>30</td>\n",
       "    </tr>\n",
       "    <tr>\n",
       "      <th>504</th>\n",
       "      <td>ZTS</td>\n",
       "      <td>242.09</td>\n",
       "      <td>116904241568</td>\n",
       "      <td>8</td>\n",
       "    </tr>\n",
       "  </tbody>\n",
       "</table>\n",
       "<p>505 rows × 4 columns</p>\n",
       "</div>"
      ],
      "text/plain": [
       "    Ticker Stocks Price     Market Cap Number of Shares to buy\n",
       "0        A          163    47792433400                      12\n",
       "1      AAL        18.77    11952830831                     105\n",
       "2      AAP      235.216    14960078505                       8\n",
       "3     AAPL        175.3  2978820710288                      11\n",
       "4     ABBV       138.46   241210271268                      14\n",
       "..     ...          ...            ...                     ...\n",
       "500    YUM       139.39    40130787087                      14\n",
       "501    ZBH       129.26    26280592578                      15\n",
       "502   ZBRA      603.837    32445282298                       3\n",
       "503   ZION        63.98    10103193193                      30\n",
       "504    ZTS       242.09   116904241568                       8\n",
       "\n",
       "[505 rows x 4 columns]"
      ]
     },
     "execution_count": 128,
     "metadata": {},
     "output_type": "execute_result"
    }
   ],
   "source": [
    "df\n"
   ]
  },
  {
   "cell_type": "markdown",
   "id": "87f29eda",
   "metadata": {},
   "source": [
    "### Saving our results to excell"
   ]
  },
  {
   "cell_type": "code",
   "execution_count": 135,
   "id": "f390dc27",
   "metadata": {},
   "outputs": [],
   "source": [
    "df.to_csv('s&p_trades.csv')"
   ]
  },
  {
   "cell_type": "markdown",
   "id": "d475638d",
   "metadata": {},
   "source": [
    "### Formating"
   ]
  },
  {
   "cell_type": "code",
   "execution_count": null,
   "id": "94d8d2ed",
   "metadata": {},
   "outputs": [],
   "source": []
  }
 ],
 "metadata": {
  "kernelspec": {
   "display_name": "Python 3 (ipykernel)",
   "language": "python",
   "name": "python3"
  },
  "language_info": {
   "codemirror_mode": {
    "name": "ipython",
    "version": 3
   },
   "file_extension": ".py",
   "mimetype": "text/x-python",
   "name": "python",
   "nbconvert_exporter": "python",
   "pygments_lexer": "ipython3",
   "version": "3.10.0"
  }
 },
 "nbformat": 4,
 "nbformat_minor": 5
}
